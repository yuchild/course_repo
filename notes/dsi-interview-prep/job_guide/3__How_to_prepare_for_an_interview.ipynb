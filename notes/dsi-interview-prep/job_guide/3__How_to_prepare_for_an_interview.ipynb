{
 "cells": [
  {
   "cell_type": "markdown",
   "metadata": {},
   "source": [
    "# How to Prepare for an Interview\n",
    "\n",
    "## Three Shortcuts to Impressing an Interviewer\n",
    "\n",
    "The three shortcuts to impressing your interviewer are:\n",
    "\n",
    "### Ask really good questions.\n",
    "To do this, first understand the business model, product, data set, tech stack, team structure. Then, look for areas that could be improved and ask about those aspects.\n",
    "\n",
    "\n",
    "### Understand what they’re going to ask about before they ask about it.\n",
    "f you get into the interview and say “Oh, you’re probably using data science to both predict demand as well as grow your user base, and I presume you have issues X and Y,” you’re going to sound very experienced. There’s a shortcut to doing this which is described below.\n",
    "\n",
    "### Go above and beyond the asks.\n",
    "Offer to share a take-home assignment when you weren’t given one. Take notes on the best parts of each conversation in the interview process and send them to the interviewer. Do something that goes above and beyond the requests of the key POC who you’re interviewing with.\n",
    "\n",
    "## How to Research for a Data Science Interview in Six Steps\n",
    "\n",
    "1. Check for big news about the company.\n",
    "First, Google “company name news” and skim the first few articles. Determine if any of these articles describe the company’s technology and/or data strategy. Think through now newsworthy items might affect the data science team, if it’s not explicitly mentioned. Draft 2 questions for your interviewers based on this information.\n",
    "\n",
    "1. Dig into the product.\n",
    "Spend 30 minutes using the product as if you were part of the target demographic. Look for features that utilize data, and for opportunities to build new features using data. Draft two questions from this exploration about how data science is used at the company.\n",
    "\n",
    "1. Check Kaggle Data Science Use Cases\n",
    "In most cases, interviewers will ask questions about problems they’re currently working on. The problems are top-of-mind for them, and they’re looking to see how quickly and at what depth you can answer the questions as compared to other interviewees and even themselves.\n",
    "\n",
    "1. It’s a huge advantage to interview for a logistics data science team if you know how data science is used in logistics.\n",
    "This resource is the #1 place we’ve found information about how data science is applied to marketing, logistics, retail, healthcare, etc. Once you’ve identified a use case (example: LTV modeling), use Wikipedia to understand that use case, and also check YouTube, blogs, etc for case studies from real companies.\n",
    "\n",
    "1. Figure out the tech stack.\n",
    "Interviewers usually ask questions using their own stack and techniques. The best sources for this information are job descriptions at the company - not just the one you’re applying for, but others on the team as well.\n",
    "\n",
    "1. Understand each of your interviewers.\n",
    "The best sources of information about your interviewers are likely to be Linkedin, YouTube, Twitter, and possibly a blog. Use whatever you can find to draft 2 questions for each interviewer. Pay special attention to opportunities to glean hints about your interviewer’s hobbies or interests, so that you know to mention similar during the interview if the opportunity arises.\n",
    "\n",
    "1. Search “Company Name Data Science”\n",
    "Run this query on Google, YouTube, and Twitter and see what kind of content you can find. If nothing, find content from a competitor  — they’re likely using the same or similar tools and techniques.\n",
    "1. Scour Glassdoor, Quora for insider info.\n",
    "Sometimes you can find really specific and useful information about an interview process on these sites. Use with caution - you should always let an interviewer know if you’ve seen a particular question at a previous time."
   ]
  },
  {
   "cell_type": "code",
   "execution_count": null,
   "metadata": {
    "collapsed": true
   },
   "outputs": [],
   "source": []
  }
 ],
 "metadata": {
  "kernelspec": {
   "display_name": "Python 2",
   "language": "python",
   "name": "python2"
  },
  "language_info": {
   "codemirror_mode": {
    "name": "ipython",
    "version": 2
   },
   "file_extension": ".py",
   "mimetype": "text/x-python",
   "name": "python",
   "nbconvert_exporter": "python",
   "pygments_lexer": "ipython2",
   "version": "2.7.11"
  }
 },
 "nbformat": 4,
 "nbformat_minor": 0
}
