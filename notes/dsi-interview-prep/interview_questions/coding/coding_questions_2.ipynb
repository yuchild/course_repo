{
 "cells": [
  {
   "cell_type": "markdown",
   "metadata": {},
   "source": [
    "## Software Engineering\n",
    "\n",
    "**If things do not make sense at some point, these videos will help:**\n",
    "\n",
    "- **Data Structure:** [Here](https://www.youtube.com/watch?v=92S4zgXN17o&list=PL2_aWCzGMAwI3W_JlcBbtYTwiQSsOTa6P)\n",
    "- **Sorting Algorithms:** [Here](https://www.youtube.com/watch?v=pkkFqlG0Hds&list=PL2_aWCzGMAwKedT2KfDMB9YA5DgASZb3U)\n",
    "- **Search Algorithms:** [Here](https://www.youtube.com/watch?v=j5uXyPJ0Pew&list=PL2_aWCzGMAwL3ldWlrii6YeLszojgH77j)\n",
    "\n",
    "<br>\n",
    "\n",
    "### You should know \n",
    "\n",
    "- **Data Structures:**\n",
    "  - **Key data structures everyone should know:**\n",
    "    - Array (python list)\n",
    "    - Hash Table (python dictionary)\n",
    "    - Hash Set (python set)\n",
    "  - **Less essential data structures (in decreasing order of importance:**\n",
    "    - Queue\n",
    "    - Stack\n",
    "    - Binary Tree\n",
    "    - Linked List\n",
    "    - Heap\n",
    "    - Binary Search Tree\n",
    "\n",
    "<br>\n",
    "  \n",
    "- **Algorithms:**\n",
    "  - Binary search\n",
    "  - Breadth and Depth First Search\n",
    "  - Sorting algorithms\n",
    "  - Greedy algorithms\n",
    "  - Dynamic programming\n",
    "\n",
    "<br>\n",
    "\n",
    "- **Complexity:**\n",
    "  - Time complexity\n",
    "  - Space complexity\n",
    "  - Time/space trade-off\n",
    "\n",
    "<br>\n",
    "\n",
    "### White-boarding\n",
    "\n",
    "- Best way to do these exercise is to white board it\n",
    "- First, white-board it alone in a room to get better\n",
    "- Then, get a buddy and take turns to white-board\n",
    "- **Very important:**\n",
    "  - **Give a baseline solution asap**\n",
    "  - **Say what you are thinking and pose questions to interviewer**\n",
    "  \n",
    "<br>\n",
    "\n",
    "**The following questions are drawn from [interviewcake.com](https://www.interviewcake.com):**"
   ]
  },
  {
   "cell_type": "markdown",
   "metadata": {},
   "source": [
    "## Q 1.\n",
    "\n",
    "**Given a `list_of_ints`, find the `highest_product` you can get from three of the integers.**\n",
    "\n",
    "The input `list_of_ints` will always have at least three integers."
   ]
  },
  {
   "cell_type": "code",
   "execution_count": 1,
   "metadata": {
    "collapsed": true
   },
   "outputs": [],
   "source": [
    "def highest_product(lst):\n",
    "    pass"
   ]
  },
  {
   "cell_type": "code",
   "execution_count": 2,
   "metadata": {},
   "outputs": [],
   "source": [
    "highest_product([4, 1, 1, -10, -10])"
   ]
  },
  {
   "cell_type": "markdown",
   "metadata": {},
   "source": [
    "<br>\n",
    "\n",
    "## Q 2.\n",
    "\n",
    "**Your company built an in-house calendar tool called HiCal. You want to add a feature to see the times in a day when _everyone_ is available.**\n",
    "\n",
    "To do this, you’ll need to know when any team is having a meeting. In HiCal, a meeting is stored as tuples of integers `(start_time, end_time)`. These integers represent the number of 30-minute blocks past 9:00am.\n",
    "\n",
    "For example:\n",
    "\n",
    "``\n",
    "(2, 3) # meeting from 10:00 – 10:30 am\n",
    "(6, 9) # meeting from 12:00 – 1:30 pm\n",
    "``\n",
    "\n",
    "Write a function condense_meeting_times() that takes a list of meeting time ranges and returns a list of condensed ranges.\n",
    "\n",
    "For example, given:\n",
    "\n",
    "``  \n",
    "[(0, 1), (3, 5), (4, 8), (10, 12), (9, 10)]\n",
    "``\n",
    "\n",
    "your function would return:\n",
    "\n",
    "``\n",
    "[(0, 1), (3, 8), (9, 12)]\n",
    "``\n",
    "\n",
    "<br>\n",
    "\n",
    "**_Do not assume the meetings are in order._** The meeting times are coming from multiple teams.\n",
    "\n",
    "In this case the possibilities for start_time and end_time are bounded by the number of 30-minute slots in a day. But soon you plan to refactor HiCal to store times as Unix timestamps (which are big numbers). \n",
    "\n",
    "**Write something that's efficient even when we can't put a nice upper bound on the numbers representing our time ranges.**"
   ]
  },
  {
   "cell_type": "code",
   "execution_count": 3,
   "metadata": {},
   "outputs": [],
   "source": [
    "def condense_meeting_time(lst):\n",
    "    pass"
   ]
  },
  {
   "cell_type": "code",
   "execution_count": 4,
   "metadata": {},
   "outputs": [],
   "source": [
    "condense_meeting_time([(1, 10), (2, 6), (3, 5), (11, 13)])"
   ]
  },
  {
   "cell_type": "markdown",
   "metadata": {},
   "source": [
    "<br>\n",
    "\n",
    "## Q 3.\n",
    "\n",
    "**A crack team of love scientists from OkEros (a hot new dating site) have devised a way to represent dating profiles as rectangles on a two-dimensional plane.**\n",
    "\n",
    "**They need help writing an algorithm to find the intersection of two users' love rectangles.** They suspect finding that intersection is the key to a matching algorithm so _powerful_ it will cause an immediate acquisition by Google or Facebook or Obama or something.\n",
    "\n",
    "**Write a function to find the rectangular intersection of two given love rectangles.**\n",
    "\n",
    "As with the example above, love rectangles are always \"straight\" and never \"diagonal.\" More rigorously: each side is parallel with either the x-axis or the y-axis.\n",
    "\n",
    "They are defined as dictionaries like this:\n",
    "\n",
    "```  \n",
    "my_rectangle = {\n",
    "\n",
    "    # coordinates of bottom-left corner:\n",
    "    'x': 1,\n",
    "    'y': 5,\n",
    "\n",
    "    # width and height\n",
    "    'width': 10,\n",
    "    'height': 4,\n",
    "\n",
    "}\n",
    "```\n",
    "\n",
    "Your output rectangle should use this format as well."
   ]
  },
  {
   "cell_type": "code",
   "execution_count": 5,
   "metadata": {
    "collapsed": true
   },
   "outputs": [],
   "source": [
    "def love_intersection(rect1, rect2):\n",
    "    pass"
   ]
  },
  {
   "cell_type": "code",
   "execution_count": 6,
   "metadata": {},
   "outputs": [],
   "source": [
    "rect1 = dict(x=1, y=1, height=4, width=5)\n",
    "rect2 = dict(x=5, y=3, height=4, width=5)\n",
    "love_intersection(rect1, rect2)"
   ]
  },
  {
   "cell_type": "markdown",
   "metadata": {},
   "source": [
    "<br>\n",
    "\n",
    "## Q 4.\n",
    "\n",
    "**You decide to test if your oddly-mathematical heating company is fulfilling its All-Time Max, Min, Mean and Mode Temperature Guarantee.**\n",
    "\n",
    "<br>\n",
    "\n",
    "Write a class TempTracker with these methods:\n",
    "\n",
    "- `insert()` — records a new temperature\n",
    "- `get_max()` — returns the highest temp we've seen so far\n",
    "- `get_min()` — returns the lowest temp we've seen so far\n",
    "- `get_mean()` — returns the mean of all temps we've seen so far\n",
    "- `get_mode()` — returns the mode of all temps we've seen so far\n",
    "\n",
    "<br>\n",
    "\n",
    "Optimize for space and time. **Favor speeding up the getter functions (`get_max()`, `get_min()`, `get_mean()`, and `get_mode()`) over speeding up the `insert()` function.**\n",
    "\n",
    "<br>\n",
    "\n",
    "`get_mean()` should return a **float**, but the rest of the getter functions can return integers. Temperatures will all be inserted as **integers**. We'll record our temperatures in Fahrenheit, so we can assume they'll all be in the range 0..110.\n",
    "\n",
    "If there is more than one mode, return any of the modes."
   ]
  },
  {
   "cell_type": "code",
   "execution_count": 7,
   "metadata": {
    "collapsed": true
   },
   "outputs": [],
   "source": [
    "from collections import defaultdict\n",
    "from __future__ import division\n",
    "\n",
    "class TempTracker(object):\n",
    "    def __init__(self):\n",
    "        pass\n",
    "    \n",
    "    def insert(self, f):\n",
    "        pass\n",
    "            \n",
    "    def get_max(self):\n",
    "        pass\n",
    "    \n",
    "    def get_min(self):\n",
    "        pass\n",
    "    \n",
    "    def get_mode(self):\n",
    "        pass\n",
    "    \n",
    "    def get_mean(self):\n",
    "        pass"
   ]
  },
  {
   "cell_type": "code",
   "execution_count": 8,
   "metadata": {},
   "outputs": [
    {
     "name": "stdout",
     "output_type": "stream",
     "text": [
      "None\n",
      "None\n",
      "None\n",
      "None\n"
     ]
    }
   ],
   "source": [
    "tracker = TempTracker()\n",
    "tracker.insert(1)\n",
    "tracker.insert(3)\n",
    "tracker.insert(1)\n",
    "tracker.insert(5)\n",
    "tracker.insert(3)\n",
    "tracker.insert(3)\n",
    "\n",
    "print tracker.get_max()\n",
    "print tracker.get_min()\n",
    "print tracker.get_mean()\n",
    "print tracker.get_mode()"
   ]
  },
  {
   "cell_type": "markdown",
   "metadata": {},
   "source": [
    "<br>\n",
    "\n",
    "## Q 5.\n",
    "\n",
    "**Write a function to see if a binary tree is \"_superbalanced_\" (a new tree property we just made up).**\n",
    "\n",
    "A tree is \"superbalanced\" if the difference between the depths of any two leaf nodes is no greater than one.\n",
    "\n",
    "Here's a sample binary tree node class:"
   ]
  },
  {
   "cell_type": "code",
   "execution_count": 9,
   "metadata": {
    "collapsed": true
   },
   "outputs": [],
   "source": [
    "class BinaryTreeNode:\n",
    "\n",
    "    def __init__(self, value):\n",
    "        self.value = value\n",
    "        self.left  = None\n",
    "        self.right = None\n",
    "\n",
    "    def insert_left(self, value):\n",
    "        self.left = BinaryTreeNode(value)\n",
    "        return self.left\n",
    "\n",
    "    def insert_right(self, value):\n",
    "        self.right = BinaryTreeNode(value)\n",
    "        return self.right"
   ]
  },
  {
   "cell_type": "code",
   "execution_count": 10,
   "metadata": {
    "collapsed": true
   },
   "outputs": [],
   "source": [
    "def is_super_balanced(root):\n",
    "    pass"
   ]
  },
  {
   "cell_type": "code",
   "execution_count": 11,
   "metadata": {},
   "outputs": [],
   "source": [
    "node1 = BinaryTreeNode(1)\n",
    "node2 = BinaryTreeNode(2)\n",
    "node3 = BinaryTreeNode(3)\n",
    "node4 = BinaryTreeNode(4)\n",
    "node5 = BinaryTreeNode(5)\n",
    "node6 = BinaryTreeNode(6)\n",
    "node1.left = node3\n",
    "node1.right = node2\n",
    "node2.right = node5\n",
    "node2.left = node4\n",
    "node4.left = node6"
   ]
  },
  {
   "cell_type": "code",
   "execution_count": 12,
   "metadata": {},
   "outputs": [],
   "source": [
    "is_super_balanced(node1)"
   ]
  },
  {
   "cell_type": "markdown",
   "metadata": {},
   "source": [
    "<br>\n",
    "\n",
    "## Q 6.\n",
    "\n",
    "**I'm making a search engine called MillionGazillion.**\n",
    "\n",
    "I wrote a crawler that visits web pages, stores a few keywords in a database, and follows links to other web pages. I noticed that my crawler was wasting a lot of time visiting the same pages over and over, so I made a dictionary `visited` where I'm storing URLs I've already visited. Now the crawler only visits a URL if it hasn't already been visited.\n",
    "\n",
    "Thing is, the crawler is running on my old desktop computer in my parents' basement (where I totally don't live anymore), and it keeps running out of memory because `visited` is getting so huge.\n",
    "\n",
    "How can I trim down the amount of space taken up by `visited`?\n",
    "\n",
    "The strategy I came up with doesn't take a hit on runtime."
   ]
  },
  {
   "cell_type": "markdown",
   "metadata": {},
   "source": [
    "**We can use a trie. If you've never heard of a trie, think of it this way:**\n",
    "\n",
    "Let's make visited a nested dictionary where each map has keys of just one character. So we would store `'google.com'` as `visited['g']['o']['o']['g']['l']['e']['.']['c']['o']['m']['*'] = True`.\n",
    "\n",
    "The '*' at the end means 'this is the end of an entry'. Otherwise we wouldn't know what parts of visited are real URLs and which parts are just prefixes. In the example above, 'google.co' is a prefix that we might think is a visited URL if we didn't have some way to mark 'this is the end of an entry.'\n",
    "\n",
    "Now when we go to add `'google.com/maps'` to visited, we only have to add the characters '/maps', because the 'google.com' prefix is already there. Same with `'google.com/about/jobs'`.\n",
    "\n",
    "We can visualize this as a tree, where each node is a character. We can even implement it with node objects and edge pointers instead of nested dictionaries."
   ]
  },
  {
   "cell_type": "code",
   "execution_count": null,
   "metadata": {
    "collapsed": true
   },
   "outputs": [],
   "source": []
  },
  {
   "cell_type": "markdown",
   "metadata": {},
   "source": [
    "<br>\n",
    "\n",
    "## Q 7.\n",
    "\n",
    "**Suppose we had a list of `n` integers in _sorted order_. How quickly could we check if a given integer is in the list?**"
   ]
  },
  {
   "cell_type": "code",
   "execution_count": 13,
   "metadata": {
    "collapsed": true
   },
   "outputs": [],
   "source": [
    "#Binary search\n",
    "\n",
    "def binary_search(lst, x, lo=0, hi=None):\n",
    "    pass"
   ]
  },
  {
   "cell_type": "code",
   "execution_count": 14,
   "metadata": {},
   "outputs": [],
   "source": [
    "binary_search([1, 2, 4, 5, 34, 52, 67], 2)"
   ]
  },
  {
   "cell_type": "markdown",
   "metadata": {},
   "source": [
    "<br>\n",
    "\n",
    "## Q 8.\n",
    "\n",
    "**I want to learn some big words so people think I'm smart.**\n",
    "\n",
    "I opened up a dictionary to a page in the middle and started flipping through, looking for words I didn't know. I put each word I didn't know at increasing indices in a huge list I created in memory. When I reached the end of the dictionary, I started from the beginning and did the same thing until I reached the page I started at.\n",
    "\n",
    "Now I have a list of words that are mostly alphabetical, except they start somewhere in the middle of the alphabet, reach the end, and then start from the beginning of the alphabet. In other words, this is an alphabetically ordered list that has been \"rotated.\"\n",
    "\n",
    "For example:\n",
    "\n",
    "```\n",
    "words = [\n",
    "    'ptolemaic',\n",
    "    'retrograde',\n",
    "    'supplant',\n",
    "    'undulate',\n",
    "    'xenoepist',\n",
    "    'asymptote', # <-- rotates here!\n",
    "    'babka',\n",
    "    'banoffee',\n",
    "    'engender',\n",
    "    'karpatka',\n",
    "    'othellolagkage',\n",
    "]\n",
    "```\n",
    "\n",
    "<br>\n",
    "\n",
    "**Write a function for finding the index of the \"rotation point\"**, which is where I started working from the beginning of the dictionary. This list is huge (there are lots of words I don't know) so we want to be efficient here."
   ]
  },
  {
   "cell_type": "code",
   "execution_count": 15,
   "metadata": {
    "collapsed": true
   },
   "outputs": [],
   "source": [
    "from string import lowercase\n",
    "    \n",
    "def find_rotating_point(words):\n",
    "    pass"
   ]
  },
  {
   "cell_type": "code",
   "execution_count": 16,
   "metadata": {},
   "outputs": [],
   "source": [
    "words = [\n",
    "    'ptolemaic',\n",
    "    'retrograde',\n",
    "    'supplant',\n",
    "    'supplant',\n",
    "    'supplant',\n",
    "    'supplant',\n",
    "    'asymptote', # <-- rotates here!\n",
    "    'babka',\n",
    "    'banoffee',\n",
    "    'engender',\n",
    "    'karpatka',\n",
    "    'othellolagkage',\n",
    "]\n",
    "find_rotating_point(words)"
   ]
  },
  {
   "cell_type": "markdown",
   "metadata": {},
   "source": [
    "<br>\n",
    "\n",
    "## Q 9.\n",
    "\n",
    "**You've built an in-flight entertainment system with on-demand movie streaming.**\n",
    "\n",
    "Users on longer flights like to start a second movie right when their first one ends, but they complain that the plane usually lands before they can see the ending. **So you're building a feature for choosing two movies whose total runtimes will equal the exact flight length.**\n",
    "\n",
    "<br>\n",
    "\n",
    "Write a function that takes an integer `flight_length` (in minutes) and a list of integers `movie_lengths` (in minutes) and returns a boolean indicating whether there are two numbers in `movie_lengths` whose sum equals `flight_length`.\n",
    "\n",
    "<br>\n",
    "\n",
    "When building your function:\n",
    "\n",
    "- Assume your users will watch exactly two movies\n",
    "- Don't make your users watch the same movie twice\n",
    "- Optimize for runtime over memory"
   ]
  },
  {
   "cell_type": "code",
   "execution_count": null,
   "metadata": {
    "collapsed": true
   },
   "outputs": [],
   "source": []
  },
  {
   "cell_type": "markdown",
   "metadata": {},
   "source": [
    "<br>\n",
    "\n",
    "## Q 10.\n",
    "\n",
    "**Write a function `fib()` that a takes an integer `n` and returns the `n`th [fibonacci](https://en.wikipedia.org/wiki/Fibonacci_number) number.**\n",
    "\n",
    "<br>\n",
    "\n",
    "Let's say our fibonacci series is 0-indexed and starts with 0. So:\n",
    "\n",
    "```python\n",
    "fib(0) # => 0\n",
    "fib(1) # => 1\n",
    "fib(2) # => 1\n",
    "fib(3) # => 2\n",
    "fib(4) # => 3\n",
    "fib(5) # => 5\n",
    "fib(6) # => 8\n",
    "fib(7) # => 13\n",
    "...\n",
    "```\n",
    "\n",
    "*Can you do it without having it recalculate the same fib value twice?* (requires dynamic programming)"
   ]
  },
  {
   "cell_type": "code",
   "execution_count": 17,
   "metadata": {
    "collapsed": true
   },
   "outputs": [],
   "source": [
    "def fib(n):\n",
    "    pass"
   ]
  },
  {
   "cell_type": "code",
   "execution_count": 18,
   "metadata": {},
   "outputs": [],
   "source": [
    "fib(10)"
   ]
  },
  {
   "cell_type": "markdown",
   "metadata": {},
   "source": [
    "<br>\n",
    "\n",
    "## Q 11.\n",
    "\n",
    "**Your company delivers breakfast via autonomous quadcopter drones. And something mysterious has happened.**\n",
    "\n",
    "<br>\n",
    "\n",
    "Each breakfast delivery is assigned a unique ID, a positive integer. When one of the company's 100 drones takes off with a delivery, the delivery's ID is added to a list, `delivery_id_confirmations`. When the drone comes back and lands, the ID is again added to the same list.\n",
    "\n",
    "After breakfast this morning there were only 99 drones on the tarmac. One of the drones never made it back from a delivery. **We suspect a secret agent from Amazon placed an order and stole one of our patented drones.** To track them down, we need to find their delivery ID.\n",
    "\n",
    "**Given the list of IDs, which contains many duplicate integers and _one unique integer_, find the unique integer.**\n",
    "\n",
    "_The IDs are **not** guaranteed to be sorted or sequential. Orders aren't always fulfilled in the order they were received, and some deliveries get cancelled before takeoff._\n",
    "\n",
    "<br>\n",
    "\n",
    "**We can do this in `O(n)` time.**"
   ]
  },
  {
   "cell_type": "code",
   "execution_count": 19,
   "metadata": {
    "collapsed": true
   },
   "outputs": [],
   "source": [
    "def find_unique_delivery_id(delivery_ids):\n",
    "    pass"
   ]
  },
  {
   "cell_type": "code",
   "execution_count": 20,
   "metadata": {},
   "outputs": [],
   "source": [
    "find_unique_delivery_id([1, 1, 2, 3, 2])"
   ]
  },
  {
   "cell_type": "markdown",
   "metadata": {},
   "source": [
    "<br>\n",
    "\n",
    "## Q 12.\n",
    "\n",
    "**Delete a node from a singly-linked list, given the first node (root) of the linked list.**\n",
    "\n",
    "<br>\n",
    "\n",
    "**The input could, for example, be the variables `a` and `'B'` below:**\n",
    "\n",
    "```\n",
    "class LinkedListNode:\n",
    "\n",
    "    def __init__(self, value):\n",
    "        self.value = value\n",
    "        self.next_node  = None\n",
    "\n",
    "a = LinkedListNode('A')\n",
    "b = LinkedListNode('B')\n",
    "c = LinkedListNode('C')\n",
    "\n",
    "a.next = b\n",
    "b.next = c\n",
    "\n",
    "delete_node(a, 'B')\n",
    "```"
   ]
  },
  {
   "cell_type": "code",
   "execution_count": 21,
   "metadata": {
    "collapsed": true
   },
   "outputs": [],
   "source": [
    "def delete_node(root, target):\n",
    "    pass"
   ]
  },
  {
   "cell_type": "code",
   "execution_count": 22,
   "metadata": {},
   "outputs": [],
   "source": [
    "class LinkedListNode:\n",
    "\n",
    "    def __init__(self, value):\n",
    "        self.value = value\n",
    "        self.next_node  = None\n",
    "\n",
    "a = LinkedListNode('A')\n",
    "b = LinkedListNode('B')\n",
    "c = LinkedListNode('C')\n",
    "\n",
    "a.next_node = b\n",
    "b.next_node = c\n",
    "\n",
    "answer = delete_node(a, 'B')"
   ]
  },
  {
   "cell_type": "code",
   "execution_count": 23,
   "metadata": {},
   "outputs": [
    {
     "ename": "AttributeError",
     "evalue": "'NoneType' object has no attribute 'value'",
     "output_type": "error",
     "traceback": [
      "\u001b[0;31m---------------------------------------------------------------------------\u001b[0m",
      "\u001b[0;31mAttributeError\u001b[0m                            Traceback (most recent call last)",
      "\u001b[0;32m<ipython-input-23-315fe4b2ac4e>\u001b[0m in \u001b[0;36m<module>\u001b[0;34m()\u001b[0m\n\u001b[0;32m----> 1\u001b[0;31m \u001b[0manswer\u001b[0m\u001b[0;34m.\u001b[0m\u001b[0mvalue\u001b[0m\u001b[0;34m\u001b[0m\u001b[0m\n\u001b[0m",
      "\u001b[0;31mAttributeError\u001b[0m: 'NoneType' object has no attribute 'value'"
     ]
    }
   ],
   "source": [
    "answer.value"
   ]
  },
  {
   "cell_type": "code",
   "execution_count": null,
   "metadata": {},
   "outputs": [],
   "source": [
    "answer.next_node.value"
   ]
  }
 ],
 "metadata": {
  "kernelspec": {
   "display_name": "Python 3",
   "language": "python",
   "name": "python3"
  },
  "language_info": {
   "codemirror_mode": {
    "name": "ipython",
    "version": 3
   },
   "file_extension": ".py",
   "mimetype": "text/x-python",
   "name": "python",
   "nbconvert_exporter": "python",
   "pygments_lexer": "ipython3",
   "version": "3.6.2"
  }
 },
 "nbformat": 4,
 "nbformat_minor": 1
}
